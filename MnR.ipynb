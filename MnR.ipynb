{
 "cells": [
  {
   "cell_type": "code",
   "execution_count": null,
   "metadata": {},
   "outputs": [],
   "source": [
    "#Import necessary libraries\n",
    "from random import randint\n",
    "from statistics import mean,stdev"
   ]
  },
  {
   "cell_type": "code",
   "execution_count": null,
   "metadata": {},
   "outputs": [],
   "source": [
    "#Sampling function\n",
    "\n",
    "def lets_sample(population,sample_size,s_variation):\n",
    "    '''\n",
    "    Samples given population and returns sample size and number of marked individual in that sample.\n",
    "    \n",
    "    Parameters\n",
    "    ----------\n",
    "    population : 1D array\n",
    "        List of all individuals in the population where marked individuals are denoted as 1s.\n",
    "    sample_size: int\n",
    "        Size of the individual sample\n",
    "    s_variation: int\n",
    "        Variation in sample size\n",
    "    \n",
    "    Returns\n",
    "    ----------\n",
    "    2-Tuple of form (size of sample,number of marked individuals)\n",
    "    \n",
    "    '''\n",
    "    count = 0\n",
    "    to_sample = [randint(0,len(population)) for i in range(sample_size + randint(0,s_variation))]\n",
    "    sampled = []\n",
    "    for individual in range(len(population)) :\n",
    "        if individual in to_sample:\n",
    "            sampled.append(population[individual])\n",
    "    return (len(sampled),sampled.count(1))"
   ]
  },
  {
   "cell_type": "code",
   "execution_count": null,
   "metadata": {},
   "outputs": [],
   "source": [
    "#Set experiment veriables\n",
    "population_size = 1000\n",
    "\n",
    "sample_size = 1000\n",
    "s_variation = 5\n",
    "#Actual sample size = sample_size +- randint(s_variation)"
   ]
  },
  {
   "cell_type": "code",
   "execution_count": null,
   "metadata": {},
   "outputs": [],
   "source": [
    "#Marking\n",
    "\n",
    "to_mark = sample_size + randint(-s_variation,s_variation)\n",
    "i = to_mark\n",
    "marked = []\n",
    "while i > 0:\n",
    "    current = randint(0,population_size)\n",
    "    if current not in marked:\n",
    "        marked.append(current)\n",
    "        i = i - 1\n",
    "    \n",
    "    \n",
    "population = []\n",
    "for individual in range(population_size):\n",
    "    if individual in marked:\n",
    "        population.append(1)\n",
    "    else :\n",
    "        population.append(0)"
   ]
  },
  {
   "cell_type": "code",
   "execution_count": null,
   "metadata": {},
   "outputs": [],
   "source": [
    "#Sampling\n",
    "\n",
    "nSample = 30 #Number of samplings\n",
    "estimatedN = []\n",
    "for i in range(nSample):\n",
    "    sampleParam = lets_sample(population, sample_size, s_variation)\n",
    "#     print(sampleParam[1])\n",
    "    estimatedN.append(to_mark*sampleParam[0]/sampleParam[1])\n",
    "    \n",
    "#Result\n",
    "print(\"Estimated population size is\",mean(estimatedN),\"with standard deviation of\",stdev(estimatedN),\"after\",nSample,\"samples.\")"
   ]
  }
 ],
 "metadata": {
  "kernelspec": {
   "display_name": "Python 3",
   "language": "python",
   "name": "python3"
  },
  "language_info": {
   "codemirror_mode": {
    "name": "ipython",
    "version": 3
   },
   "file_extension": ".py",
   "mimetype": "text/x-python",
   "name": "python",
   "nbconvert_exporter": "python",
   "pygments_lexer": "ipython3",
   "version": "3.6.7"
  }
 },
 "nbformat": 4,
 "nbformat_minor": 2
}
